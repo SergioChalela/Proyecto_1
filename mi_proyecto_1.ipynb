{
 "cells": [
  {
   "cell_type": "code",
   "execution_count": 9,
   "metadata": {},
   "outputs": [],
   "source": [
    "import numpy as np"
   ]
  },
  {
   "cell_type": "code",
   "execution_count": 10,
   "metadata": {},
   "outputs": [],
   "source": [
    "# crear un tablero\n",
    "\n",
    "tablero = np.full((10,10), \"_\")\n"
   ]
  },
  {
   "cell_type": "code",
   "execution_count": null,
   "metadata": {},
   "outputs": [],
   "source": [
    "import random\n",
    "\n",
    "fila = random.randint(0,9)\n",
    "columna = random.randint(0,9)\n",
    "casilla_1 = (fila,columna)\n",
    "orientacion = random.choice([\"Vertical\",\"Horizontal\"])\n",
    "print(casilla_1)\n",
    "print(orientacion)\n",
    "\n",
    "# crear la funcion crear_barco_eslora\n",
    "\n",
    "def crear_barco(eslora):\n",
    "    casilla_0 = (random.randint(0, 9), random.randint(0, 9))\n",
    "    orientacion = random.choice([\"Vertical\", \"Horizontal\"])\n",
    "\n",
    "    barco = [casilla_0]\n",
    "    casilla = casilla_0\n",
    "    \n",
    "    while len(barco) < eslora:\n",
    "        if orientacion == \"Vertical\":\n",
    "            casilla = (casilla[0] + 1, casilla[1])  # Vertical\n",
    "            barco.append(casilla)\n",
    "        else:\n",
    "            casilla = (casilla[0], casilla[1] + 1)  # Horizontal\n",
    "            barco.append(casilla)\n",
    "    \n",
    "    return barco\n",
    "\n",
    "crear_barco(2)"
   ]
  },
  {
   "cell_type": "code",
   "execution_count": 22,
   "metadata": {},
   "outputs": [],
   "source": [
    "# crear 6 barcos con sus respectivas esloras\n",
    "\n",
    "mi_barco1 = crear_barco(2)\n",
    "mi_barco2 = crear_barco(2)\n",
    "mi_barco3 = crear_barco(2)\n",
    "mi_barco4 = crear_barco(3)\n",
    "mi_barco5 = crear_barco(3)\n",
    "mi_barco6 = crear_barco(5)\n",
    "\n",
    "# crear una lista que contenga los 6 barcos\n",
    "\n",
    "lista_mis_barcos = [mi_barco1, mi_barco2, mi_barco3, mi_barco4, mi_barco5, mi_barco6]"
   ]
  },
  {
   "cell_type": "code",
   "execution_count": null,
   "metadata": {},
   "outputs": [],
   "source": [
    "# crear una funcion que verifique si la casilla esta libre o no\n",
    "\n",
    "def casillas_libres(barco, tablero):\n",
    "    for casilla in barco:\n",
    "        fila, columna = casilla \n",
    "        if fila < 0:    \n",
    "            return False\n",
    "        elif fila >= len(tablero):  \n",
    "            return False\n",
    "        elif columna < 0:   \n",
    "            return False\n",
    "        elif columna >= len(tablero):  \n",
    "            return False\n",
    "        if tablero [fila, columna] != \"_\": \n",
    "            return False\n",
    "        tablero[fila,columna] = \"O\"\n",
    "    return True\n",
    "\n",
    "print(casillas_libres(mi_barco1,tablero))\n",
    "print(casillas_libres(mi_barco2,tablero))\n",
    "print(casillas_libres(mi_barco3,tablero))"
   ]
  },
  {
   "cell_type": "code",
   "execution_count": null,
   "metadata": {},
   "outputs": [],
   "source": [
    "# crear una funcion de colocar barcos\n",
    "\n",
    "def colocar_barcos(lista_mis_barcos, tablero):\n",
    "    for barco in lista_mis_barcos:\n",
    "        if casillas_libres(barco,tablero):\n",
    "            print(\"Casilla libre\")\n",
    "            for casilla in barco:\n",
    "                fila,columna = casilla\n",
    "                tablero[fila,columna] = \"O\"\n",
    "        else:\n",
    "            print(\"Casilla no libre, generando nuevo barco\")\n",
    "            nuevo_barco = crear_barco(len(barco))\n",
    "\n",
    "            if casillas_libres(nuevo_barco, tablero):\n",
    "                print(\"Nuevo barco\")\n",
    "                for casilla in nuevo_barco:\n",
    "                    fila,columna = casilla\n",
    "                    tablero[fila,columna] = \"O\"\n",
    "            else:\n",
    "                print(\"Nuevo barco no puede proceder\")\n",
    "    return tablero \n",
    "\n",
    "print(colocar_barcos(lista_mis_barcos, tablero))"
   ]
  },
  {
   "cell_type": "code",
   "execution_count": null,
   "metadata": {},
   "outputs": [],
   "source": [
    "tablero = colocar_barcos(lista_mis_barcos,tablero)"
   ]
  },
  {
   "cell_type": "code",
   "execution_count": null,
   "metadata": {},
   "outputs": [],
   "source": [
    "print(tablero)"
   ]
  },
  {
   "cell_type": "code",
   "execution_count": 31,
   "metadata": {},
   "outputs": [],
   "source": [
    "# funcion de disparar\n",
    "\n",
    "def disparar(casilla, tablero):\n",
    "    if tablero[casilla] == \"O\":\n",
    "        print(\"Tocado\")\n",
    "        tablero[casilla] = \"X\"\n",
    "    else:\n",
    "        print(\"Agua\")\n",
    "        tablero[casilla] = \"A\"\n",
    "    return tablero"
   ]
  },
  {
   "cell_type": "code",
   "execution_count": null,
   "metadata": {},
   "outputs": [],
   "source": [
    "tablero = disparar((0, 0), tablero)\n",
    "tablero = disparar((0, 1), tablero)\n",
    "tablero = disparar((1, 1), tablero)"
   ]
  },
  {
   "cell_type": "code",
   "execution_count": null,
   "metadata": {},
   "outputs": [],
   "source": [
    "print(tablero)"
   ]
  },
  {
   "cell_type": "code",
   "execution_count": 38,
   "metadata": {},
   "outputs": [
    {
     "name": "stdout",
     "output_type": "stream",
     "text": [
      "Bienvenidos al juego con fallos de Barcos!!!\n",
      "Gracias por jugar. Regresa en 12 semanas a jugar FIFA!!! con fallos\n"
     ]
    }
   ],
   "source": [
    "def mensaje_bienvenida():\n",
    "    print(\"Bienvenidos al juego con fallos de Barcos!!!\")\n",
    "mensaje_bienvenida()\n",
    "\n",
    "def mensaje_despedida():\n",
    "    print(\"Gracias por jugar. Regresa en 12 semanas a jugar FIFA!!! con fallos\")\n",
    "mensaje_despedida()"
   ]
  },
  {
   "cell_type": "code",
   "execution_count": null,
   "metadata": {},
   "outputs": [],
   "source": [
    "import numpy as np\n",
    "import random\n",
    "\n",
    "\n",
    "mensaje_bienvenida()\n",
    "\n",
    "tablero = np.full((10,10), \"_\")\n",
    "\n",
    "fila = random.randint(0,9)\n",
    "columna = random.randint(0,9)\n",
    "casilla_1 = (fila,columna)\n",
    "orientacion = random.choice([\"Vertical\",\"Horizontal\"])\n",
    "print(casilla_1)\n",
    "print(orientacion)\n",
    "\n",
    "def crear_barco(eslora):\n",
    "    casilla_0 = (random.randint(0, 9), random.randint(0, 9))\n",
    "    orientacion = random.choice([\"Vertical\", \"Horizontal\"])\n",
    "\n",
    "    barco = [casilla_0]\n",
    "    casilla = casilla_0\n",
    "    \n",
    "    while len(barco) < eslora:\n",
    "        if orientacion == \"Vertical\":\n",
    "            casilla = (casilla[0] + 1, casilla[1])  # Vertical\n",
    "            barco.append(casilla)\n",
    "        else:\n",
    "            casilla = (casilla[0], casilla[1] + 1)  # Horizontal\n",
    "            barco.append(casilla)\n",
    "    \n",
    "    return barco\n",
    "\n",
    "mi_barco1 = crear_barco(2)\n",
    "mi_barco2 = crear_barco(2)\n",
    "mi_barco3 = crear_barco(2)\n",
    "mi_barco4 = crear_barco(3)\n",
    "mi_barco5 = crear_barco(3)\n",
    "mi_barco6 = crear_barco(5)\n",
    "\n",
    "lista_mis_barcos = [mi_barco1, mi_barco2, mi_barco3, mi_barco4, mi_barco5, mi_barco6]\n",
    "lista_barcos_maquina = [mi_barco1, mi_barco2, mi_barco3, mi_barco4, mi_barco5, mi_barco6]\n",
    "\n",
    "def casillas_libres(barco, tablero):\n",
    "    for casilla in barco:\n",
    "        fila, columna = casilla \n",
    "        if fila < 0:    \n",
    "            return False\n",
    "        elif fila >= len(tablero):  \n",
    "            return False\n",
    "        elif columna < 0:   \n",
    "            return False\n",
    "        elif columna >= len(tablero):  \n",
    "            return False\n",
    "        if tablero [fila, columna] != \"_\": \n",
    "            return False\n",
    "        tablero[fila,columna] = \"O\"\n",
    "    return True\n",
    "\n",
    "def colocar_barcos(lista_mis_barcos, tablero):\n",
    "    for barco in lista_mis_barcos:\n",
    "        if casillas_libres(barco,tablero):\n",
    "            print(\"Casilla libre\")\n",
    "            for casilla in barco:\n",
    "                fila,columna = casilla\n",
    "                tablero[fila,columna] = \"O\"\n",
    "        else:\n",
    "            print(\"Casilla no libre, generando nuevo barco\")\n",
    "            nuevo_barco = crear_barco(len(barco))\n",
    "\n",
    "            if casillas_libres(nuevo_barco, tablero):\n",
    "                print(\"Nuevo barco\")\n",
    "                for casilla in nuevo_barco:\n",
    "                    fila,columna = casilla\n",
    "                    tablero[fila,columna] = \"O\"\n",
    "            else:\n",
    "                print(\"Nuevo barco no puede proceder\")\n",
    "    return tablero \n",
    "\n",
    "def disparar(casilla, tablero):\n",
    "    if tablero[casilla] == \"O\":\n",
    "        print(\"Tocado\")\n",
    "        tablero[casilla] = \"X\"\n",
    "    else:\n",
    "        print(\"Agua\")\n",
    "        tablero[casilla] = \"A\"\n",
    "    return tablero\n",
    "\n",
    "mensaje_despedida"
   ]
  }
 ],
 "metadata": {
  "kernelspec": {
   "display_name": "Python 3",
   "language": "python",
   "name": "python3"
  },
  "language_info": {
   "codemirror_mode": {
    "name": "ipython",
    "version": 3
   },
   "file_extension": ".py",
   "mimetype": "text/x-python",
   "name": "python",
   "nbconvert_exporter": "python",
   "pygments_lexer": "ipython3",
   "version": "3.12.6"
  }
 },
 "nbformat": 4,
 "nbformat_minor": 2
}
