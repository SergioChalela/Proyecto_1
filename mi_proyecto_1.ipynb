{
 "cells": [
  {
   "cell_type": "code",
   "execution_count": 2,
   "metadata": {},
   "outputs": [],
   "source": [
    "import numpy as np"
   ]
  },
  {
   "cell_type": "code",
   "execution_count": 3,
   "metadata": {},
   "outputs": [],
   "source": [
    "# crear un tablero\n",
    "\n",
    "tablero = np.full((10,10), \"_\")\n"
   ]
  },
  {
   "cell_type": "code",
   "execution_count": 4,
   "metadata": {},
   "outputs": [
    {
     "name": "stdout",
     "output_type": "stream",
     "text": [
      "(2, 3)\n",
      "Vertical\n"
     ]
    },
    {
     "data": {
      "text/plain": [
       "[(8, 4), (8, 5)]"
      ]
     },
     "execution_count": 4,
     "metadata": {},
     "output_type": "execute_result"
    }
   ],
   "source": [
    "import random\n",
    "\n",
    "fila = random.randint(0,9)\n",
    "columna = random.randint(0,9)\n",
    "casilla_1 = (fila,columna)\n",
    "orientacion = random.choice([\"Vertical\",\"Horizontal\"])\n",
    "print(casilla_1)\n",
    "print(orientacion)\n",
    "\n",
    "# crear la funcion crear_barco_eslora\n",
    "\n",
    "def crear_barco(eslora):\n",
    "    casilla_0 = (random.randint(0, 9), random.randint(0, 9))\n",
    "    orientacion = random.choice([\"Vertical\", \"Horizontal\"])\n",
    "\n",
    "    barco = [casilla_0]\n",
    "    casilla = casilla_0\n",
    "    \n",
    "    while len(barco) < eslora:\n",
    "        if orientacion == \"Vertical\":\n",
    "            casilla = (casilla[0] + 1, casilla[1])  # Vertical\n",
    "            barco.append(casilla)\n",
    "        else:\n",
    "            casilla = (casilla[0], casilla[1] + 1)  # Horizontal\n",
    "            barco.append(casilla)\n",
    "    \n",
    "    return barco\n",
    "\n",
    "crear_barco(2)"
   ]
  },
  {
   "cell_type": "code",
   "execution_count": 5,
   "metadata": {},
   "outputs": [],
   "source": [
    "# crear 6 barcos con sus respectivas esloras\n",
    "\n",
    "mi_barco1 = crear_barco(2)\n",
    "mi_barco2 = crear_barco(2)\n",
    "mi_barco3 = crear_barco(2)\n",
    "mi_barco4 = crear_barco(3)\n",
    "mi_barco5 = crear_barco(3)\n",
    "mi_barco6 = crear_barco(5)\n",
    "\n",
    "# crear una lista que contenga los 6 barcos\n",
    "\n",
    "lista_mis_barcos = [mi_barco1, mi_barco2, mi_barco3, mi_barco4, mi_barco5, mi_barco6]\n",
    "lista_barcos_maquina = [crear_barco(2), crear_barco(2), crear_barco(2), \n",
    "                        crear_barco(3), crear_barco(3), crear_barco(5)]\n"
   ]
  },
  {
   "cell_type": "code",
   "execution_count": 15,
   "metadata": {},
   "outputs": [
    {
     "name": "stdout",
     "output_type": "stream",
     "text": [
      "False\n",
      "False\n",
      "False\n"
     ]
    }
   ],
   "source": [
    "# crear una funcion que verifique si la casilla esta libre o no\n",
    "\n",
    "def casillas_libres(barco, tablero):\n",
    "    for casilla in barco:\n",
    "        fila, columna = casilla \n",
    "        if fila < 0 or fila >= len(tablero) or columna < 0 or columna >= len(tablero):\n",
    "            return False\n",
    "        if tablero[fila, columna] != \"_\": \n",
    "            return False\n",
    "    return True\n",
    "\n",
    "print(casillas_libres(mi_barco1,tablero))\n",
    "print(casillas_libres(mi_barco2,tablero))\n",
    "print(casillas_libres(mi_barco3,tablero))"
   ]
  },
  {
   "cell_type": "code",
   "execution_count": 7,
   "metadata": {},
   "outputs": [],
   "source": [
    "def colocar_barco(barco, tablero):\n",
    "    if casillas_libres(barco, tablero):\n",
    "        for casilla in barco:\n",
    "            fila, columna = casilla\n",
    "            tablero[fila, columna] = \"O\"\n",
    "        return True\n",
    "    return False"
   ]
  },
  {
   "cell_type": "code",
   "execution_count": 8,
   "metadata": {},
   "outputs": [],
   "source": [
    "def colocar_barcos(lista_mis_barcos, tablero):\n",
    "    for barco in lista_mis_barcos:\n",
    "        colocado = colocar_barco(barco, tablero)\n",
    "        \n",
    "        while not colocado:  \n",
    "            print(\"Casilla no libre, generando nuevo barco\")\n",
    "            nuevo_barco = crear_barco(len(barco))  \n",
    "            colocado = colocar_barco(nuevo_barco, tablero)  \n",
    "    return tablero\n"
   ]
  },
  {
   "cell_type": "code",
   "execution_count": 9,
   "metadata": {},
   "outputs": [],
   "source": [
    "# funcion de disparar\n",
    "\n",
    "def disparar(casilla, tablero):\n",
    "    if tablero[casilla] == \"O\":\n",
    "        print(\"Tocado\")\n",
    "        tablero[casilla] = \"X\"\n",
    "    else:\n",
    "        print(\"Agua\")\n",
    "        tablero[casilla] = \"A\"\n",
    "    return tablero"
   ]
  },
  {
   "cell_type": "code",
   "execution_count": 10,
   "metadata": {},
   "outputs": [
    {
     "name": "stdout",
     "output_type": "stream",
     "text": [
      "Agua\n",
      "Agua\n",
      "Agua\n"
     ]
    }
   ],
   "source": [
    "tablero = disparar((0, 0), tablero)\n",
    "tablero = disparar((0, 1), tablero)\n",
    "tablero = disparar((1, 1), tablero)"
   ]
  },
  {
   "cell_type": "code",
   "execution_count": 11,
   "metadata": {},
   "outputs": [
    {
     "name": "stdout",
     "output_type": "stream",
     "text": [
      "[['A' 'A' '_' '_' '_' '_' '_' '_' '_' '_']\n",
      " ['_' 'A' 'O' '_' '_' '_' '_' '_' '_' '_']\n",
      " ['_' '_' 'O' '_' 'O' 'O' '_' '_' '_' '_']\n",
      " ['_' '_' '_' '_' '_' '_' '_' '_' '_' '_']\n",
      " ['_' '_' '_' '_' '_' '_' '_' '_' '_' '_']\n",
      " ['_' '_' '_' '_' '_' '_' '_' '_' '_' '_']\n",
      " ['_' '_' '_' '_' '_' '_' '_' '_' '_' '_']\n",
      " ['_' '_' '_' '_' '_' '_' '_' 'O' 'O' '_']\n",
      " ['_' '_' '_' '_' '_' '_' '_' '_' '_' '_']\n",
      " ['_' '_' '_' '_' '_' '_' '_' '_' '_' '_']]\n"
     ]
    }
   ],
   "source": [
    "print(tablero)"
   ]
  },
  {
   "cell_type": "code",
   "execution_count": 12,
   "metadata": {},
   "outputs": [],
   "source": [
    "# crear flujo con turnos, jugadores, etc\n",
    "def turno_jugador(tablero):\n",
    "    fila = int(input(\"Introduce la fila (0-9): \"))\n",
    "    columna = int(input(\"Introduce la columna (0-9): \"))\n",
    "    casilla = (fila, columna)\n",
    "    disparar(casilla, tablero)\n",
    "    return print(\"Acabo tu turno\")\n"
   ]
  },
  {
   "cell_type": "code",
   "execution_count": 13,
   "metadata": {},
   "outputs": [],
   "source": [
    "def turno_maquina(tablero):\n",
    "    fila = random.randint(0, 9)\n",
    "    columna = random.randint(0, 9)\n",
    "    casilla = (fila, columna)\n",
    "    print(f\"La máquina dispara a {casilla}\")\n",
    "    disparar(casilla, tablero)\n",
    "    return print(\"Acabo tu turno\")\n"
   ]
  },
  {
   "cell_type": "code",
   "execution_count": 14,
   "metadata": {},
   "outputs": [
    {
     "name": "stdout",
     "output_type": "stream",
     "text": [
      "Bienvenidos al juego con fallos de Barcos!!!\n",
      "Gracias por jugar. Regresa en 12 semanas a jugar!!! sin fallos\n"
     ]
    }
   ],
   "source": [
    "def mensaje_bienvenida():\n",
    "    print(\"Bienvenidos al juego con fallos de Barcos!!!\")\n",
    "mensaje_bienvenida()\n",
    "\n",
    "def mensaje_despedida():\n",
    "    print(\"Gracias por jugar. Regresa en 12 semanas a jugar!!! sin fallos\")\n",
    "mensaje_despedida()"
   ]
  },
  {
   "cell_type": "code",
   "execution_count": null,
   "metadata": {},
   "outputs": [],
   "source": []
  }
 ],
 "metadata": {
  "kernelspec": {
   "display_name": "Python 3",
   "language": "python",
   "name": "python3"
  },
  "language_info": {
   "codemirror_mode": {
    "name": "ipython",
    "version": 3
   },
   "file_extension": ".py",
   "mimetype": "text/x-python",
   "name": "python",
   "nbconvert_exporter": "python",
   "pygments_lexer": "ipython3",
   "version": "3.12.6"
  }
 },
 "nbformat": 4,
 "nbformat_minor": 2
}
